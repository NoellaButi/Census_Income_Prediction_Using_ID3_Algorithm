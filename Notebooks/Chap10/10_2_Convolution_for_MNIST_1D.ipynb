{
  "nbformat": 4,
  "nbformat_minor": 0,
  "metadata": {
    "colab": {
      "provenance": [],
      "include_colab_link": true
    },
    "kernelspec": {
      "name": "python3",
      "display_name": "Python 3"
    },
    "language_info": {
      "name": "python"
    }
  },
  "cells": [
    {
      "cell_type": "markdown",
      "metadata": {
        "id": "view-in-github",
        "colab_type": "text"
      },
      "source": [
        "<a href=\"https://colab.research.google.com/github/NoellaButi/Census_Income_Prediction_Using_ID3_Algorithm/blob/main/Notebooks/Chap10/10_2_Convolution_for_MNIST_1D.ipynb\" target=\"_parent\"><img src=\"https://colab.research.google.com/assets/colab-badge.svg\" alt=\"Open In Colab\"/></a>"
      ]
    },
    {
      "cell_type": "code",
      "source": [
        "from google.colab import drive\n",
        "drive.mount('/content/drive')\n",
        "%cd /content/drive/My Drive/CS310/"
      ],
      "metadata": {
        "id": "O92OqDhEk009",
        "outputId": "8086a98d-c4df-4422-8fe2-98c45559bcba",
        "colab": {
          "base_uri": "https://localhost:8080/"
        }
      },
      "execution_count": 1,
      "outputs": [
        {
          "output_type": "stream",
          "name": "stdout",
          "text": [
            "Mounted at /content/drive\n",
            "/content/drive/My Drive/CS310\n"
          ]
        }
      ]
    },
    {
      "cell_type": "markdown",
      "source": [
        "# **Notebook 10.2: Convolution for MNIST-1D**\n",
        "\n",
        "This notebook investigates a 1D convolutional network for MNIST-1D as in figure 10.7 and 10.8a.\n",
        "\n",
        "Work through the cells below, running each cell in turn. In various places you will see the words \"TODO\". Follow the instructions at these places and make predictions about what is going to happen or write code to complete the functions.\n",
        "\n",
        "Contact me at udlbookmail@gmail.com if you find any mistakes or have any suggestions.\n",
        "\n"
      ],
      "metadata": {
        "id": "t9vk9Elugvmi"
      }
    },
    {
      "cell_type": "code",
      "source": [
        "# Run this if you're in a Colab to install MNIST 1D repository\n",
        "!pip install git+https://github.com/greydanus/mnist1d"
      ],
      "metadata": {
        "id": "D5yLObtZCi9J",
        "outputId": "ef1b709d-2fcd-468c-8423-41566830164b",
        "colab": {
          "base_uri": "https://localhost:8080/"
        }
      },
      "execution_count": 2,
      "outputs": [
        {
          "output_type": "stream",
          "name": "stdout",
          "text": [
            "Collecting git+https://github.com/greydanus/mnist1d\n",
            "  Cloning https://github.com/greydanus/mnist1d to /tmp/pip-req-build-lawhv3_5\n",
            "  Running command git clone --filter=blob:none --quiet https://github.com/greydanus/mnist1d /tmp/pip-req-build-lawhv3_5\n",
            "  Resolved https://github.com/greydanus/mnist1d to commit 7878d96082abd200c546a07a4101fa90b30fdf7e\n",
            "  Installing build dependencies ... \u001b[?25l\u001b[?25hdone\n",
            "  Getting requirements to build wheel ... \u001b[?25l\u001b[?25hdone\n",
            "  Preparing metadata (pyproject.toml) ... \u001b[?25l\u001b[?25hdone\n",
            "Requirement already satisfied: requests in /usr/local/lib/python3.11/dist-packages (from mnist1d==0.0.2.post16) (2.32.3)\n",
            "Requirement already satisfied: numpy in /usr/local/lib/python3.11/dist-packages (from mnist1d==0.0.2.post16) (2.0.2)\n",
            "Requirement already satisfied: matplotlib in /usr/local/lib/python3.11/dist-packages (from mnist1d==0.0.2.post16) (3.10.0)\n",
            "Requirement already satisfied: scipy in /usr/local/lib/python3.11/dist-packages (from mnist1d==0.0.2.post16) (1.14.1)\n",
            "Requirement already satisfied: contourpy>=1.0.1 in /usr/local/lib/python3.11/dist-packages (from matplotlib->mnist1d==0.0.2.post16) (1.3.1)\n",
            "Requirement already satisfied: cycler>=0.10 in /usr/local/lib/python3.11/dist-packages (from matplotlib->mnist1d==0.0.2.post16) (0.12.1)\n",
            "Requirement already satisfied: fonttools>=4.22.0 in /usr/local/lib/python3.11/dist-packages (from matplotlib->mnist1d==0.0.2.post16) (4.56.0)\n",
            "Requirement already satisfied: kiwisolver>=1.3.1 in /usr/local/lib/python3.11/dist-packages (from matplotlib->mnist1d==0.0.2.post16) (1.4.8)\n",
            "Requirement already satisfied: packaging>=20.0 in /usr/local/lib/python3.11/dist-packages (from matplotlib->mnist1d==0.0.2.post16) (24.2)\n",
            "Requirement already satisfied: pillow>=8 in /usr/local/lib/python3.11/dist-packages (from matplotlib->mnist1d==0.0.2.post16) (11.1.0)\n",
            "Requirement already satisfied: pyparsing>=2.3.1 in /usr/local/lib/python3.11/dist-packages (from matplotlib->mnist1d==0.0.2.post16) (3.2.1)\n",
            "Requirement already satisfied: python-dateutil>=2.7 in /usr/local/lib/python3.11/dist-packages (from matplotlib->mnist1d==0.0.2.post16) (2.8.2)\n",
            "Requirement already satisfied: charset-normalizer<4,>=2 in /usr/local/lib/python3.11/dist-packages (from requests->mnist1d==0.0.2.post16) (3.4.1)\n",
            "Requirement already satisfied: idna<4,>=2.5 in /usr/local/lib/python3.11/dist-packages (from requests->mnist1d==0.0.2.post16) (3.10)\n",
            "Requirement already satisfied: urllib3<3,>=1.21.1 in /usr/local/lib/python3.11/dist-packages (from requests->mnist1d==0.0.2.post16) (2.3.0)\n",
            "Requirement already satisfied: certifi>=2017.4.17 in /usr/local/lib/python3.11/dist-packages (from requests->mnist1d==0.0.2.post16) (2025.1.31)\n",
            "Requirement already satisfied: six>=1.5 in /usr/local/lib/python3.11/dist-packages (from python-dateutil>=2.7->matplotlib->mnist1d==0.0.2.post16) (1.17.0)\n",
            "Building wheels for collected packages: mnist1d\n",
            "  Building wheel for mnist1d (pyproject.toml) ... \u001b[?25l\u001b[?25hdone\n",
            "  Created wheel for mnist1d: filename=mnist1d-0.0.2.post16-py3-none-any.whl size=14664 sha256=7aa1658bd0188163ee72729065a16313c51ad732892a3ba579ec8f5f4be7a632\n",
            "  Stored in directory: /tmp/pip-ephem-wheel-cache-ize7gs08/wheels/d6/38/42/3d2112bc7d915f6195254ac85eb761d922d1b18f52817aa8e2\n",
            "Successfully built mnist1d\n",
            "Installing collected packages: mnist1d\n",
            "Successfully installed mnist1d-0.0.2.post16\n"
          ]
        }
      ]
    },
    {
      "cell_type": "code",
      "source": [
        "import numpy as np\n",
        "import os\n",
        "import torch, torch.nn as nn\n",
        "from torch.utils.data import TensorDataset, DataLoader\n",
        "from torch.optim.lr_scheduler import StepLR\n",
        "import matplotlib.pyplot as plt\n",
        "import mnist1d\n",
        "import random"
      ],
      "metadata": {
        "id": "YrXWAH7sUWvU"
      },
      "execution_count": 3,
      "outputs": []
    },
    {
      "cell_type": "code",
      "source": [
        "args = mnist1d.data.get_dataset_args()\n",
        "data = mnist1d.data.get_dataset(args, path='./mnist1d_data.pkl', download=False, regenerate=False)\n",
        "\n",
        "# The training and test input and outputs are in\n",
        "# data['x'], data['y'], data['x_test'], and data['y_test']\n",
        "print(\"Examples in training set: {}\".format(len(data['y'])))\n",
        "print(\"Examples in test set: {}\".format(len(data['y_test'])))\n",
        "print(\"Length of each example: {}\".format(data['x'].shape[-1]))"
      ],
      "metadata": {
        "id": "twI72ZCrCt5z",
        "outputId": "0d132f39-b58e-46f4-fac5-50f59255e23d",
        "colab": {
          "base_uri": "https://localhost:8080/"
        }
      },
      "execution_count": 4,
      "outputs": [
        {
          "output_type": "stream",
          "name": "stdout",
          "text": [
            "Did or could not load data from ./mnist1d_data.pkl. Rebuilding dataset...\n",
            "Examples in training set: 4000\n",
            "Examples in test set: 1000\n",
            "Length of each example: 40\n"
          ]
        }
      ]
    },
    {
      "cell_type": "code",
      "source": [
        "# Load in the data\n",
        "train_data_x = data['x'].transpose()\n",
        "train_data_y = data['y']\n",
        "val_data_x = data['x_test'].transpose()\n",
        "val_data_y = data['y_test']\n",
        "# Print out sizes\n",
        "print(\"Train data: %d examples (columns), each of which has %d dimensions (rows)\"%((train_data_x.shape[1],train_data_x.shape[0])))\n",
        "print(\"Validation data: %d examples (columns), each of which has %d dimensions (rows)\"%((val_data_x.shape[1],val_data_x.shape[0])))"
      ],
      "metadata": {
        "id": "8bKADvLHbiV5",
        "outputId": "cdd7b47c-d650-4945-dfa0-aa14fd85df17",
        "colab": {
          "base_uri": "https://localhost:8080/"
        }
      },
      "execution_count": 5,
      "outputs": [
        {
          "output_type": "stream",
          "name": "stdout",
          "text": [
            "Train data: 4000 examples (columns), each of which has 40 dimensions (rows)\n",
            "Validation data: 1000 examples (columns), each of which has 40 dimensions (rows)\n"
          ]
        }
      ]
    },
    {
      "cell_type": "markdown",
      "source": [
        "Define the network"
      ],
      "metadata": {
        "id": "_sFvRDGrl4qe"
      }
    },
    {
      "cell_type": "code",
      "source": [
        "# There are 40 input dimensions and 10 output dimensions for this data\n",
        "# The inputs correspond to the 40 offsets in the MNIST1D template.\n",
        "D_i = 40\n",
        "# The outputs correspond to the 10 digits\n",
        "D_o = 10\n",
        "\n",
        "\n",
        "# TODO Create a model with the following layers\n",
        "# 1. Convolutional layer, (input=length 40 and 1 channel, kernel size 3, stride 2, padding=\"valid\", 15 output channels )\n",
        "# 2. ReLU\n",
        "# 3. Convolutional layer, (input=length 19 and 15 channels, kernel size 3, stride 2, padding=\"valid\", 15 output channels )\n",
        "# 4. ReLU\n",
        "# 5. Convolutional layer, (input=length 9 and 15 channels, kernel size 3, stride 2, padding=\"valid\", 15 output channels)\n",
        "# 6. ReLU\n",
        "# 7. Flatten (converts 4x15) to length 60\n",
        "# 8. Linear layer (input size = 60, output size = 10)\n",
        "# References:\n",
        "# https://pytorch.org/docs/1.13/generated/torch.nn.Conv1d.html?highlight=conv1d#torch.nn.Conv1d\n",
        "# https://pytorch.org/docs/stable/generated/torch.nn.Flatten.html\n",
        "# https://pytorch.org/docs/1.13/generated/torch.nn.Linear.html?highlight=linear#torch.nn.Linear\n",
        "\n",
        "# NOTE THAT THE CONVOLUTIONAL LAYERS NEED TO TAKE THE NUMBER OF INPUT CHANNELS AS A PARAMETER\n",
        "# AND NOT THE INPUT SIZE.\n",
        "\n",
        "# Replace the following function:\n",
        "model = nn.Sequential(\n",
        "    nn.Conv1d(in_channels=1, out_channels=15, kernel_size=3, stride=2, padding=\"valid\"), # 1D Conv Layer 1\n",
        "    nn.ReLU(),\n",
        "    nn.Conv1d(in_channels=15, out_channels=15, kernel_size=3, stride=2, padding=\"valid\"), # 1D Conv Layer 2\n",
        "    nn.ReLU(),\n",
        "    nn.Conv1d(in_channels=15, out_channels=15, kernel_size=3, stride=2, padding=\"valid\"), # 1D Conv Layer 3\n",
        "    nn.ReLU(),\n",
        "    nn.Flatten(), # Converts shape (4,15) to (60)\n",
        "    nn.Linear(60, 10) # Fully Connected Layer (Input=60, Output=10)\n",
        ")\n",
        "#nn.Flatten(),\n",
        "#nn.Linear(40, 100),\n",
        "#nn.ReLU(),\n",
        "#nn.Linear(100, 100),\n",
        "#nn.ReLU(),\n",
        "#nn.Linear(100, 10))\n",
        "\n",
        "# Print model architecture\n",
        "print(model)"
      ],
      "metadata": {
        "id": "FslroPJJffrh",
        "outputId": "be2ba5c5-4c55-4570-9720-7199420cbae4",
        "colab": {
          "base_uri": "https://localhost:8080/"
        }
      },
      "execution_count": 9,
      "outputs": [
        {
          "output_type": "stream",
          "name": "stdout",
          "text": [
            "Sequential(\n",
            "  (0): Conv1d(1, 15, kernel_size=(3,), stride=(2,), padding=valid)\n",
            "  (1): ReLU()\n",
            "  (2): Conv1d(15, 15, kernel_size=(3,), stride=(2,), padding=valid)\n",
            "  (3): ReLU()\n",
            "  (4): Conv1d(15, 15, kernel_size=(3,), stride=(2,), padding=valid)\n",
            "  (5): ReLU()\n",
            "  (6): Flatten(start_dim=1, end_dim=-1)\n",
            "  (7): Linear(in_features=60, out_features=10, bias=True)\n",
            ")\n"
          ]
        }
      ]
    },
    {
      "cell_type": "code",
      "source": [
        "# He initialization of weights\n",
        "def weights_init(layer_in):\n",
        "  if isinstance(layer_in, nn.Linear):\n",
        "    nn.init.kaiming_uniform_(layer_in.weight)\n",
        "    layer_in.bias.data.fill_(0.0)"
      ],
      "metadata": {
        "id": "YgLaex1pfhqz"
      },
      "execution_count": 10,
      "outputs": []
    },
    {
      "cell_type": "code",
      "source": [
        "# choose cross entropy loss function (equation 5.24 in the loss notes)\n",
        "loss_function = nn.CrossEntropyLoss()\n",
        "# construct SGD optimizer and initialize learning rate and momentum\n",
        "optimizer = torch.optim.SGD(model.parameters(), lr = 0.05, momentum=0.9)\n",
        "# object that decreases learning rate by half every 20 epochs\n",
        "scheduler = StepLR(optimizer, step_size=20, gamma=0.5)\n",
        "# create 100 dummy data points and store in data loader class\n",
        "x_train = torch.tensor(train_data_x.transpose().astype('float32'))\n",
        "y_train = torch.tensor(train_data_y.astype('long')).long()\n",
        "x_val= torch.tensor(val_data_x.transpose().astype('float32'))\n",
        "y_val = torch.tensor(val_data_y.astype('long')).long()\n",
        "\n",
        "# load the data into a class that creates the batches\n",
        "data_loader = DataLoader(TensorDataset(x_train,y_train), batch_size=100, shuffle=True, worker_init_fn=np.random.seed(1))\n",
        "\n",
        "# Initialize model weights\n",
        "model.apply(weights_init)\n",
        "\n",
        "# loop over the dataset n_epoch times\n",
        "n_epoch = 100\n",
        "# store the loss and the % correct at each epoch\n",
        "losses_train = np.zeros((n_epoch))\n",
        "errors_train = np.zeros((n_epoch))\n",
        "losses_val = np.zeros((n_epoch))\n",
        "errors_val = np.zeros((n_epoch))\n",
        "\n",
        "for epoch in range(n_epoch):\n",
        "  # loop over batches\n",
        "  for i, data in enumerate(data_loader):\n",
        "    # retrieve inputs and labels for this batch\n",
        "    x_batch, y_batch = data\n",
        "    # zero the parameter gradients\n",
        "    optimizer.zero_grad()\n",
        "    # forward pass -- calculate model output\n",
        "    pred = model(x_batch[:,None,:])\n",
        "    # compute the loss\n",
        "    loss = loss_function(pred, y_batch)\n",
        "    # backward pass\n",
        "    loss.backward()\n",
        "    # SGD update\n",
        "    optimizer.step()\n",
        "\n",
        "  # Run whole dataset to get statistics -- normally wouldn't do this\n",
        "  pred_train = model(x_train[:,None,:])\n",
        "  pred_val = model(x_val[:,None,:])\n",
        "  _, predicted_train_class = torch.max(pred_train.data, 1)\n",
        "  _, predicted_val_class = torch.max(pred_val.data, 1)\n",
        "  errors_train[epoch] = 100 - 100 * (predicted_train_class == y_train).float().sum() / len(y_train)\n",
        "  errors_val[epoch]= 100 - 100 * (predicted_val_class == y_val).float().sum() / len(y_val)\n",
        "  losses_train[epoch] = loss_function(pred_train, y_train).item()\n",
        "  losses_val[epoch]= loss_function(pred_val, y_val).item()\n",
        "  print(f'Epoch {epoch:5d}, train loss {losses_train[epoch]:.6f}, train error {errors_train[epoch]:3.2f},  val loss {losses_val[epoch]:.6f}, percent error {errors_val[epoch]:3.2f}')\n",
        "\n",
        "  # tell scheduler to consider updating learning rate\n",
        "  scheduler.step()\n",
        "\n",
        "# Plot the results\n",
        "fig, ax = plt.subplots()\n",
        "ax.plot(errors_train,'r-',label='train')\n",
        "ax.plot(errors_val,'b-',label='validation')\n",
        "ax.set_ylim(0,100); ax.set_xlim(0,n_epoch)\n",
        "ax.set_xlabel('Epoch'); ax.set_ylabel('Error')\n",
        "ax.set_title('Part I: Validation Result %3.2f'%(errors_val[-1]))\n",
        "ax.legend()\n",
        "plt.show()"
      ],
      "metadata": {
        "id": "NYw8I_3mmX5c",
        "outputId": "d6e7a2c2-214a-4307-addd-d576ce010900",
        "colab": {
          "base_uri": "https://localhost:8080/",
          "height": 1000
        }
      },
      "execution_count": 11,
      "outputs": [
        {
          "output_type": "stream",
          "name": "stdout",
          "text": [
            "Epoch     0, train loss 1.987661, train error 75.45,  val loss 1.978754, percent error 78.30\n",
            "Epoch     1, train loss 1.504623, train error 61.15,  val loss 1.512002, percent error 61.40\n",
            "Epoch     2, train loss 1.375680, train error 54.92,  val loss 1.396848, percent error 57.60\n",
            "Epoch     3, train loss 1.411301, train error 56.17,  val loss 1.435056, percent error 55.10\n",
            "Epoch     4, train loss 1.216922, train error 48.25,  val loss 1.215122, percent error 50.30\n",
            "Epoch     5, train loss 1.110054, train error 44.90,  val loss 1.142749, percent error 47.30\n",
            "Epoch     6, train loss 1.072091, train error 40.45,  val loss 1.105669, percent error 44.30\n",
            "Epoch     7, train loss 0.933341, train error 38.28,  val loss 0.969799, percent error 40.40\n",
            "Epoch     8, train loss 0.851365, train error 33.10,  val loss 0.892941, percent error 36.30\n",
            "Epoch     9, train loss 0.750192, train error 28.97,  val loss 0.811123, percent error 33.20\n",
            "Epoch    10, train loss 0.715552, train error 27.10,  val loss 0.773022, percent error 30.20\n",
            "Epoch    11, train loss 0.729153, train error 29.65,  val loss 0.838008, percent error 33.80\n",
            "Epoch    12, train loss 0.648525, train error 24.85,  val loss 0.765030, percent error 30.20\n",
            "Epoch    13, train loss 0.642215, train error 22.72,  val loss 0.770092, percent error 26.60\n",
            "Epoch    14, train loss 0.499256, train error 19.28,  val loss 0.640693, percent error 25.40\n",
            "Epoch    15, train loss 0.448508, train error 16.90,  val loss 0.604111, percent error 22.70\n",
            "Epoch    16, train loss 0.473388, train error 17.57,  val loss 0.625322, percent error 22.80\n",
            "Epoch    17, train loss 0.440207, train error 16.20,  val loss 0.615015, percent error 23.00\n",
            "Epoch    18, train loss 0.411558, train error 14.78,  val loss 0.574799, percent error 21.70\n",
            "Epoch    19, train loss 0.311582, train error 11.43,  val loss 0.517347, percent error 17.70\n",
            "Epoch    20, train loss 0.282656, train error 10.00,  val loss 0.487524, percent error 16.90\n",
            "Epoch    21, train loss 0.274697, train error 10.22,  val loss 0.487613, percent error 16.20\n",
            "Epoch    22, train loss 0.244585, train error 8.97,  val loss 0.472526, percent error 15.60\n",
            "Epoch    23, train loss 0.271298, train error 10.07,  val loss 0.492824, percent error 17.10\n",
            "Epoch    24, train loss 0.214803, train error 7.53,  val loss 0.448594, percent error 14.00\n",
            "Epoch    25, train loss 0.219253, train error 7.68,  val loss 0.460175, percent error 14.70\n",
            "Epoch    26, train loss 0.190870, train error 6.55,  val loss 0.442188, percent error 14.90\n",
            "Epoch    27, train loss 0.201376, train error 7.30,  val loss 0.484946, percent error 14.00\n",
            "Epoch    28, train loss 0.182811, train error 6.00,  val loss 0.432691, percent error 13.60\n",
            "Epoch    29, train loss 0.173535, train error 6.43,  val loss 0.456524, percent error 15.00\n",
            "Epoch    30, train loss 0.175391, train error 6.12,  val loss 0.441323, percent error 13.40\n",
            "Epoch    31, train loss 0.191550, train error 7.35,  val loss 0.453121, percent error 14.50\n",
            "Epoch    32, train loss 0.169281, train error 5.93,  val loss 0.452697, percent error 14.90\n",
            "Epoch    33, train loss 0.166008, train error 5.90,  val loss 0.448168, percent error 12.70\n",
            "Epoch    34, train loss 0.141481, train error 4.93,  val loss 0.439368, percent error 13.40\n",
            "Epoch    35, train loss 0.143835, train error 4.85,  val loss 0.454559, percent error 13.80\n",
            "Epoch    36, train loss 0.159618, train error 5.75,  val loss 0.495075, percent error 12.90\n",
            "Epoch    37, train loss 0.117087, train error 3.80,  val loss 0.439892, percent error 13.60\n",
            "Epoch    38, train loss 0.132881, train error 4.57,  val loss 0.422068, percent error 13.10\n",
            "Epoch    39, train loss 0.124401, train error 4.25,  val loss 0.456399, percent error 12.90\n",
            "Epoch    40, train loss 0.100115, train error 3.25,  val loss 0.416956, percent error 12.60\n",
            "Epoch    41, train loss 0.093248, train error 3.00,  val loss 0.432749, percent error 12.40\n",
            "Epoch    42, train loss 0.094685, train error 3.22,  val loss 0.428481, percent error 12.10\n",
            "Epoch    43, train loss 0.099664, train error 3.45,  val loss 0.440943, percent error 12.80\n",
            "Epoch    44, train loss 0.093148, train error 3.18,  val loss 0.429625, percent error 12.30\n",
            "Epoch    45, train loss 0.087636, train error 2.80,  val loss 0.447520, percent error 12.50\n",
            "Epoch    46, train loss 0.092013, train error 3.30,  val loss 0.454102, percent error 13.20\n",
            "Epoch    47, train loss 0.089158, train error 2.90,  val loss 0.438842, percent error 12.40\n",
            "Epoch    48, train loss 0.077495, train error 2.32,  val loss 0.462150, percent error 12.90\n",
            "Epoch    49, train loss 0.078479, train error 2.53,  val loss 0.452078, percent error 12.20\n",
            "Epoch    50, train loss 0.073993, train error 2.18,  val loss 0.446452, percent error 11.60\n",
            "Epoch    51, train loss 0.073903, train error 2.18,  val loss 0.446061, percent error 11.90\n",
            "Epoch    52, train loss 0.085300, train error 2.88,  val loss 0.460436, percent error 12.70\n",
            "Epoch    53, train loss 0.068162, train error 2.00,  val loss 0.462442, percent error 11.80\n",
            "Epoch    54, train loss 0.072451, train error 2.22,  val loss 0.467375, percent error 12.20\n",
            "Epoch    55, train loss 0.071012, train error 2.15,  val loss 0.476258, percent error 12.60\n",
            "Epoch    56, train loss 0.072201, train error 2.25,  val loss 0.486252, percent error 12.30\n",
            "Epoch    57, train loss 0.062808, train error 1.75,  val loss 0.465071, percent error 12.50\n",
            "Epoch    58, train loss 0.083333, train error 2.85,  val loss 0.487195, percent error 13.50\n",
            "Epoch    59, train loss 0.060686, train error 1.75,  val loss 0.479083, percent error 11.90\n",
            "Epoch    60, train loss 0.055668, train error 1.38,  val loss 0.455473, percent error 12.10\n",
            "Epoch    61, train loss 0.055216, train error 1.43,  val loss 0.472422, percent error 12.70\n",
            "Epoch    62, train loss 0.054152, train error 1.45,  val loss 0.462230, percent error 12.50\n",
            "Epoch    63, train loss 0.053550, train error 1.40,  val loss 0.469617, percent error 12.30\n",
            "Epoch    64, train loss 0.053876, train error 1.22,  val loss 0.476656, percent error 12.50\n",
            "Epoch    65, train loss 0.052842, train error 1.22,  val loss 0.486373, percent error 12.40\n",
            "Epoch    66, train loss 0.049290, train error 1.03,  val loss 0.484455, percent error 12.10\n",
            "Epoch    67, train loss 0.048990, train error 1.12,  val loss 0.488361, percent error 12.50\n",
            "Epoch    68, train loss 0.051216, train error 1.05,  val loss 0.486416, percent error 12.60\n",
            "Epoch    69, train loss 0.048424, train error 1.10,  val loss 0.492574, percent error 12.40\n",
            "Epoch    70, train loss 0.046609, train error 0.93,  val loss 0.495805, percent error 12.30\n",
            "Epoch    71, train loss 0.046115, train error 0.90,  val loss 0.490996, percent error 12.00\n",
            "Epoch    72, train loss 0.046063, train error 1.00,  val loss 0.483623, percent error 12.40\n",
            "Epoch    73, train loss 0.046436, train error 0.95,  val loss 0.504586, percent error 12.80\n",
            "Epoch    74, train loss 0.045904, train error 0.90,  val loss 0.506726, percent error 12.30\n",
            "Epoch    75, train loss 0.045915, train error 0.97,  val loss 0.497848, percent error 12.70\n",
            "Epoch    76, train loss 0.044258, train error 0.90,  val loss 0.510117, percent error 12.10\n",
            "Epoch    77, train loss 0.042805, train error 0.75,  val loss 0.507865, percent error 12.40\n",
            "Epoch    78, train loss 0.047075, train error 1.20,  val loss 0.515709, percent error 12.40\n",
            "Epoch    79, train loss 0.042517, train error 0.80,  val loss 0.503727, percent error 12.10\n",
            "Epoch    80, train loss 0.041960, train error 0.72,  val loss 0.513226, percent error 12.20\n",
            "Epoch    81, train loss 0.041423, train error 0.72,  val loss 0.509420, percent error 12.70\n",
            "Epoch    82, train loss 0.040697, train error 0.75,  val loss 0.508610, percent error 12.30\n",
            "Epoch    83, train loss 0.040069, train error 0.75,  val loss 0.509957, percent error 12.50\n",
            "Epoch    84, train loss 0.040303, train error 0.72,  val loss 0.510688, percent error 12.60\n",
            "Epoch    85, train loss 0.039727, train error 0.75,  val loss 0.508870, percent error 12.40\n",
            "Epoch    86, train loss 0.039536, train error 0.72,  val loss 0.515009, percent error 12.30\n",
            "Epoch    87, train loss 0.039301, train error 0.75,  val loss 0.517826, percent error 12.40\n",
            "Epoch    88, train loss 0.038811, train error 0.78,  val loss 0.517278, percent error 12.50\n",
            "Epoch    89, train loss 0.039174, train error 0.68,  val loss 0.517176, percent error 12.30\n",
            "Epoch    90, train loss 0.039014, train error 0.70,  val loss 0.517079, percent error 12.40\n",
            "Epoch    91, train loss 0.038037, train error 0.72,  val loss 0.518627, percent error 12.40\n",
            "Epoch    92, train loss 0.038010, train error 0.72,  val loss 0.519764, percent error 12.60\n",
            "Epoch    93, train loss 0.039088, train error 0.65,  val loss 0.524908, percent error 12.40\n",
            "Epoch    94, train loss 0.037583, train error 0.70,  val loss 0.529123, percent error 12.90\n",
            "Epoch    95, train loss 0.037174, train error 0.72,  val loss 0.525805, percent error 12.80\n",
            "Epoch    96, train loss 0.038491, train error 0.78,  val loss 0.525471, percent error 12.70\n",
            "Epoch    97, train loss 0.036898, train error 0.65,  val loss 0.526773, percent error 12.80\n",
            "Epoch    98, train loss 0.037135, train error 0.72,  val loss 0.529514, percent error 12.60\n",
            "Epoch    99, train loss 0.036820, train error 0.72,  val loss 0.528684, percent error 12.30\n"
          ]
        },
        {
          "output_type": "display_data",
          "data": {
            "text/plain": [
              "<Figure size 640x480 with 1 Axes>"
            ],
            "image/png": "[encoded data removed]"
          },
          "metadata": {}
        }
      ]
    }
  ]
}